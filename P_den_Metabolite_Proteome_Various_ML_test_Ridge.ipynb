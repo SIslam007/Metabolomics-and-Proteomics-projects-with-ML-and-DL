{
  "nbformat": 4,
  "nbformat_minor": 0,
  "metadata": {
    "colab": {
      "provenance": []
    },
    "kernelspec": {
      "name": "python3",
      "display_name": "Python 3"
    },
    "language_info": {
      "name": "python"
    }
  },
  "cells": [
    {
      "cell_type": "code",
      "execution_count": 11,
      "metadata": {
        "id": "BX0P0KVQCqmk"
      },
      "outputs": [],
      "source": [
        "#STEP 2: Import libraries\n",
        "import pandas as pd\n",
        "import numpy as np\n",
        "from sklearn.preprocessing import StandardScaler\n",
        "from sklearn.cross_decomposition import PLSRegression\n",
        "from sklearn.metrics import r2_score, mean_squared_error\n",
        "from sklearn.linear_model import Ridge, Lasso\n",
        "from sklearn.ensemble import RandomForestRegressor\n",
        "from sklearn.multioutput import MultiOutputRegressor\n",
        "from sklearn.model_selection import LeaveOneOut\n",
        "from xgboost import XGBRegressor\n",
        "import matplotlib.pyplot as plt\n",
        "import seaborn as sns\n",
        "from google.colab import files"
      ]
    },
    {
      "cell_type": "code",
      "source": [
        "uploaded = files.upload()\n",
        "met_file = \"P den_Metabolites_OD_0.6.xlsx\"\n",
        "prot_file = \"P den_OD_0.6_proteome data_P value.xlsx\""
      ],
      "metadata": {
        "colab": {
          "base_uri": "https://localhost:8080/",
          "height": 107
        },
        "id": "LnlP20tEC3we",
        "outputId": "cfc56e45-e5c4-4a81-a8e3-669e633c0621"
      },
      "execution_count": 12,
      "outputs": [
        {
          "output_type": "display_data",
          "data": {
            "text/plain": [
              "<IPython.core.display.HTML object>"
            ],
            "text/html": [
              "\n",
              "     <input type=\"file\" id=\"files-aa84b84f-fc60-4f22-90f9-af5d441cbc32\" name=\"files[]\" multiple disabled\n",
              "        style=\"border:none\" />\n",
              "     <output id=\"result-aa84b84f-fc60-4f22-90f9-af5d441cbc32\">\n",
              "      Upload widget is only available when the cell has been executed in the\n",
              "      current browser session. Please rerun this cell to enable.\n",
              "      </output>\n",
              "      <script>// Copyright 2017 Google LLC\n",
              "//\n",
              "// Licensed under the Apache License, Version 2.0 (the \"License\");\n",
              "// you may not use this file except in compliance with the License.\n",
              "// You may obtain a copy of the License at\n",
              "//\n",
              "//      http://www.apache.org/licenses/LICENSE-2.0\n",
              "//\n",
              "// Unless required by applicable law or agreed to in writing, software\n",
              "// distributed under the License is distributed on an \"AS IS\" BASIS,\n",
              "// WITHOUT WARRANTIES OR CONDITIONS OF ANY KIND, either express or implied.\n",
              "// See the License for the specific language governing permissions and\n",
              "// limitations under the License.\n",
              "\n",
              "/**\n",
              " * @fileoverview Helpers for google.colab Python module.\n",
              " */\n",
              "(function(scope) {\n",
              "function span(text, styleAttributes = {}) {\n",
              "  const element = document.createElement('span');\n",
              "  element.textContent = text;\n",
              "  for (const key of Object.keys(styleAttributes)) {\n",
              "    element.style[key] = styleAttributes[key];\n",
              "  }\n",
              "  return element;\n",
              "}\n",
              "\n",
              "// Max number of bytes which will be uploaded at a time.\n",
              "const MAX_PAYLOAD_SIZE = 100 * 1024;\n",
              "\n",
              "function _uploadFiles(inputId, outputId) {\n",
              "  const steps = uploadFilesStep(inputId, outputId);\n",
              "  const outputElement = document.getElementById(outputId);\n",
              "  // Cache steps on the outputElement to make it available for the next call\n",
              "  // to uploadFilesContinue from Python.\n",
              "  outputElement.steps = steps;\n",
              "\n",
              "  return _uploadFilesContinue(outputId);\n",
              "}\n",
              "\n",
              "// This is roughly an async generator (not supported in the browser yet),\n",
              "// where there are multiple asynchronous steps and the Python side is going\n",
              "// to poll for completion of each step.\n",
              "// This uses a Promise to block the python side on completion of each step,\n",
              "// then passes the result of the previous step as the input to the next step.\n",
              "function _uploadFilesContinue(outputId) {\n",
              "  const outputElement = document.getElementById(outputId);\n",
              "  const steps = outputElement.steps;\n",
              "\n",
              "  const next = steps.next(outputElement.lastPromiseValue);\n",
              "  return Promise.resolve(next.value.promise).then((value) => {\n",
              "    // Cache the last promise value to make it available to the next\n",
              "    // step of the generator.\n",
              "    outputElement.lastPromiseValue = value;\n",
              "    return next.value.response;\n",
              "  });\n",
              "}\n",
              "\n",
              "/**\n",
              " * Generator function which is called between each async step of the upload\n",
              " * process.\n",
              " * @param {string} inputId Element ID of the input file picker element.\n",
              " * @param {string} outputId Element ID of the output display.\n",
              " * @return {!Iterable<!Object>} Iterable of next steps.\n",
              " */\n",
              "function* uploadFilesStep(inputId, outputId) {\n",
              "  const inputElement = document.getElementById(inputId);\n",
              "  inputElement.disabled = false;\n",
              "\n",
              "  const outputElement = document.getElementById(outputId);\n",
              "  outputElement.innerHTML = '';\n",
              "\n",
              "  const pickedPromise = new Promise((resolve) => {\n",
              "    inputElement.addEventListener('change', (e) => {\n",
              "      resolve(e.target.files);\n",
              "    });\n",
              "  });\n",
              "\n",
              "  const cancel = document.createElement('button');\n",
              "  inputElement.parentElement.appendChild(cancel);\n",
              "  cancel.textContent = 'Cancel upload';\n",
              "  const cancelPromise = new Promise((resolve) => {\n",
              "    cancel.onclick = () => {\n",
              "      resolve(null);\n",
              "    };\n",
              "  });\n",
              "\n",
              "  // Wait for the user to pick the files.\n",
              "  const files = yield {\n",
              "    promise: Promise.race([pickedPromise, cancelPromise]),\n",
              "    response: {\n",
              "      action: 'starting',\n",
              "    }\n",
              "  };\n",
              "\n",
              "  cancel.remove();\n",
              "\n",
              "  // Disable the input element since further picks are not allowed.\n",
              "  inputElement.disabled = true;\n",
              "\n",
              "  if (!files) {\n",
              "    return {\n",
              "      response: {\n",
              "        action: 'complete',\n",
              "      }\n",
              "    };\n",
              "  }\n",
              "\n",
              "  for (const file of files) {\n",
              "    const li = document.createElement('li');\n",
              "    li.append(span(file.name, {fontWeight: 'bold'}));\n",
              "    li.append(span(\n",
              "        `(${file.type || 'n/a'}) - ${file.size} bytes, ` +\n",
              "        `last modified: ${\n",
              "            file.lastModifiedDate ? file.lastModifiedDate.toLocaleDateString() :\n",
              "                                    'n/a'} - `));\n",
              "    const percent = span('0% done');\n",
              "    li.appendChild(percent);\n",
              "\n",
              "    outputElement.appendChild(li);\n",
              "\n",
              "    const fileDataPromise = new Promise((resolve) => {\n",
              "      const reader = new FileReader();\n",
              "      reader.onload = (e) => {\n",
              "        resolve(e.target.result);\n",
              "      };\n",
              "      reader.readAsArrayBuffer(file);\n",
              "    });\n",
              "    // Wait for the data to be ready.\n",
              "    let fileData = yield {\n",
              "      promise: fileDataPromise,\n",
              "      response: {\n",
              "        action: 'continue',\n",
              "      }\n",
              "    };\n",
              "\n",
              "    // Use a chunked sending to avoid message size limits. See b/62115660.\n",
              "    let position = 0;\n",
              "    do {\n",
              "      const length = Math.min(fileData.byteLength - position, MAX_PAYLOAD_SIZE);\n",
              "      const chunk = new Uint8Array(fileData, position, length);\n",
              "      position += length;\n",
              "\n",
              "      const base64 = btoa(String.fromCharCode.apply(null, chunk));\n",
              "      yield {\n",
              "        response: {\n",
              "          action: 'append',\n",
              "          file: file.name,\n",
              "          data: base64,\n",
              "        },\n",
              "      };\n",
              "\n",
              "      let percentDone = fileData.byteLength === 0 ?\n",
              "          100 :\n",
              "          Math.round((position / fileData.byteLength) * 100);\n",
              "      percent.textContent = `${percentDone}% done`;\n",
              "\n",
              "    } while (position < fileData.byteLength);\n",
              "  }\n",
              "\n",
              "  // All done.\n",
              "  yield {\n",
              "    response: {\n",
              "      action: 'complete',\n",
              "    }\n",
              "  };\n",
              "}\n",
              "\n",
              "scope.google = scope.google || {};\n",
              "scope.google.colab = scope.google.colab || {};\n",
              "scope.google.colab._files = {\n",
              "  _uploadFiles,\n",
              "  _uploadFilesContinue,\n",
              "};\n",
              "})(self);\n",
              "</script> "
            ]
          },
          "metadata": {}
        },
        {
          "output_type": "stream",
          "name": "stdout",
          "text": [
            "Saving P den_Metabolites_OD_0.6.xlsx to P den_Metabolites_OD_0.6 (1).xlsx\n",
            "Saving P den_OD_0.6_proteome data_P value.xlsx to P den_OD_0.6_proteome data_P value (1).xlsx\n"
          ]
        }
      ]
    },
    {
      "cell_type": "code",
      "source": [
        "met_df = pd.read_excel(met_file)\n",
        "prot_df = pd.read_excel(prot_file)"
      ],
      "metadata": {
        "id": "-f-J0BQIC96l"
      },
      "execution_count": 13,
      "outputs": []
    },
    {
      "cell_type": "code",
      "source": [
        "# STEP 4: Prepare OD = 0.6 data\n",
        "sample_cols = ['WT1', 'WT2', 'WT3', 'HNOX1', 'HNOX2', 'HNOX3']\n",
        "X_raw = met_df[sample_cols].T\n",
        "X_raw.columns = met_df['Metabolite_ID']\n",
        "Y_raw = prot_df[sample_cols].T\n",
        "Y_raw.columns = prot_df['Protein_ID']\n",
        "# Standard scaling\n",
        "scaler_X = StandardScaler()\n",
        "scaler_Y = StandardScaler()\n",
        "X_scaled = scaler_X.fit_transform(X_raw)\n",
        "Y_scaled = scaler_Y.fit_transform(Y_raw)\n",
        "X_scaled = np.nan_to_num(X_scaled)\n",
        "Y_scaled = np.nan_to_num(Y_scaled)"
      ],
      "metadata": {
        "id": "ZKG1dHR3DAql"
      },
      "execution_count": 14,
      "outputs": []
    },
    {
      "cell_type": "code",
      "source": [
        "# STEP 5: Define Models for LOOCV\n",
        "models = {\n",
        "    \"PLS\": PLSRegression(n_components=5),\n",
        "    \"Ridge\": MultiOutputRegressor(Ridge(alpha=1.0)),\n",
        "    \"Lasso\": MultiOutputRegressor(Lasso(alpha=0.01, max_iter=10000)),\n",
        "    \"RandomForest\": MultiOutputRegressor(RandomForestRegressor(n_estimators=100, random_state=42)),\n",
        "    \"XGBoost\": MultiOutputRegressor(XGBRegressor(n_estimators=100, learning_rate=0.1, max_depth=3, objective='reg:squarederror', random_state=42))\n",
        "}"
      ],
      "metadata": {
        "id": "GmPOMw3oDFlF"
      },
      "execution_count": 15,
      "outputs": []
    },
    {
      "cell_type": "code",
      "source": [
        "# STEP 6: LOOCV for Each Model\n",
        "loo = LeaveOneOut()\n",
        "r2_loocv = {}\n",
        "mse_loocv = {}\n",
        "std_r2 = {}\n",
        "std_mse = {}\n",
        "\n",
        "ridge_preds_all, ridge_actual_all = [], []\n",
        "\n",
        "for name, model in models.items():\n",
        "    r2_list, mse_list = [], []\n",
        "    for train_idx, test_idx in loo.split(X_scaled):\n",
        "        X_tr, X_te = X_scaled[train_idx], X_scaled[test_idx]\n",
        "        Y_tr, Y_te = Y_scaled[train_idx], Y_scaled[test_idx]\n",
        "        model.fit(X_tr, Y_tr)\n",
        "        Y_pred = model.predict(X_te)\n",
        "        Y_pred_inv = scaler_Y.inverse_transform(Y_pred)\n",
        "        Y_true_inv = scaler_Y.inverse_transform(Y_te)\n",
        "        r2 = r2_score(Y_true_inv.flatten(), Y_pred_inv.flatten())\n",
        "        mse = mean_squared_error(Y_true_inv.flatten(), Y_pred_inv.flatten())\n",
        "        r2_list.append(r2)\n",
        "        mse_list.append(mse)\n",
        "        if name == \"Ridge\":\n",
        "            ridge_preds_all.append(Y_pred_inv.flatten())\n",
        "            ridge_actual_all.append(Y_true_inv.flatten())\n",
        "    r2_loocv[name] = np.mean(r2_list)\n",
        "    mse_loocv[name] = np.mean(mse_list)\n",
        "    std_r2[name] = np.std(r2_list)\n",
        "    std_mse[name] = np.std(mse_list)"
      ],
      "metadata": {
        "colab": {
          "base_uri": "https://localhost:8080/"
        },
        "id": "d6Lg3pENDPeW",
        "outputId": "8b4209ae-6411-4a72-d492-4a24f10e0e73"
      },
      "execution_count": 26,
      "outputs": [
        {
          "output_type": "stream",
          "name": "stderr",
          "text": [
            "/usr/local/lib/python3.11/dist-packages/sklearn/cross_decomposition/_pls.py:348: UserWarning: y residual is constant at iteration 4\n",
            "  warnings.warn(f\"y residual is constant at iteration {k}\")\n",
            "/usr/local/lib/python3.11/dist-packages/sklearn/cross_decomposition/_pls.py:348: UserWarning: y residual is constant at iteration 4\n",
            "  warnings.warn(f\"y residual is constant at iteration {k}\")\n",
            "/usr/local/lib/python3.11/dist-packages/sklearn/cross_decomposition/_pls.py:348: UserWarning: y residual is constant at iteration 4\n",
            "  warnings.warn(f\"y residual is constant at iteration {k}\")\n",
            "/usr/local/lib/python3.11/dist-packages/sklearn/cross_decomposition/_pls.py:348: UserWarning: y residual is constant at iteration 4\n",
            "  warnings.warn(f\"y residual is constant at iteration {k}\")\n",
            "/usr/local/lib/python3.11/dist-packages/sklearn/cross_decomposition/_pls.py:348: UserWarning: y residual is constant at iteration 4\n",
            "  warnings.warn(f\"y residual is constant at iteration {k}\")\n",
            "/usr/local/lib/python3.11/dist-packages/sklearn/cross_decomposition/_pls.py:348: UserWarning: y residual is constant at iteration 4\n",
            "  warnings.warn(f\"y residual is constant at iteration {k}\")\n"
          ]
        }
      ]
    },
    {
      "cell_type": "code",
      "source": [
        "# STEP 7: Show LOOCV Performance Comparison\n",
        "results_df = pd.DataFrame({\n",
        "    \"R2_mean\": r2_loocv,\n",
        "    \"R2_std\": std_r2,\n",
        "    \"MSE_mean\": mse_loocv,\n",
        "    \"MSE_std\": std_mse\n",
        "})\n",
        "print(\"\\nLOOCV Model Performance Comparison (on OD = 0.6 data):\")\n",
        "print(results_df.round(5))\n",
        "\n",
        "# STEP 8: Bar plot of LOOCV R² scores with error bars\n",
        "plt.figure(figsize=(8, 5))\n",
        "r2_keys = list(r2_loocv.keys())\n",
        "r2_means = list(r2_loocv.values())\n",
        "r2_stds = list(std_r2.values())\n",
        "colors = sns.color_palette(\"Set2\", len(r2_keys))\n",
        "for i, (bar, err) in enumerate(zip(r2_means, r2_stds)):\n",
        "    plt.bar(r2_keys[i], bar, yerr=err, capsize=5, color=colors[i])\n",
        "plt.title(\"LOOCV Model R² Comparison (OD = 0.6)\")\n",
        "plt.xlabel(\"Model\")\n",
        "plt.ylabel(\"Mean R² Score\")\n",
        "plt.tight_layout()\n",
        "plt.show()\n",
        "\n",
        "# STEP 9: Bar plot of LOOCV MSE with error bars\n",
        "plt.figure(figsize=(8, 5))\n",
        "mse_keys = list(mse_loocv.keys())\n",
        "mse_means = list(mse_loocv.values())\n",
        "mse_stds = list(std_mse.values())\n",
        "colors = sns.color_palette(\"Set3\", len(mse_keys))\n",
        "for i, (bar, err) in enumerate(zip(mse_means, mse_stds)):\n",
        "    plt.bar(mse_keys[i], bar, yerr=err, capsize=5, color=colors[i])\n",
        "plt.title(\"LOOCV Model MSE Comparison (OD = 0.6)\")\n",
        "plt.xlabel(\"Model\")\n",
        "plt.ylabel(\"Mean Squared Error\")\n",
        "plt.tight_layout()\n",
        "plt.show()\n"
      ],
      "metadata": {
        "colab": {
          "base_uri": "https://localhost:8080/",
          "height": 1000
        },
        "id": "rU7bZc0gEfg9",
        "outputId": "c0d40b62-de68-4e88-9a4f-f92f466937e7"
      },
      "execution_count": 27,
      "outputs": [
        {
          "output_type": "stream",
          "name": "stdout",
          "text": [
            "\n",
            "LOOCV Model Performance Comparison (on OD = 0.6 data):\n",
            "              R2_mean   R2_std  MSE_mean  MSE_std\n",
            "PLS           0.99143  0.00732   0.08323  0.07073\n",
            "Ridge         0.99462  0.00190   0.05230  0.01847\n",
            "Lasso         0.98870  0.00286   0.10985  0.02759\n",
            "RandomForest  0.99169  0.00220   0.08092  0.02175\n",
            "XGBoost       0.98256  0.01422   0.16965  0.13849\n"
          ]
        },
        {
          "output_type": "display_data",
          "data": {
            "text/plain": [
              "<Figure size 800x500 with 1 Axes>"
            ],
            "image/png": "[encoded data removed]"
          },
          "metadata": {}
        },
        {
          "output_type": "display_data",
          "data": {
            "text/plain": [
              "<Figure size 800x500 with 1 Axes>"
            ],
            "image/png": "[encoded data removed]"
          },
          "metadata": {}
        }
      ]
    },
    {
      "cell_type": "code",
      "source": [
        "# STEP 10: Export LOOCV results table to CSV\n",
        "results_df.round(5).to_csv(\"LOOCV_Model_Performance_OD0.6.csv\")\n",
        "files.download(\"LOOCV_Model_Performance_OD0.6.csv\")"
      ],
      "metadata": {
        "colab": {
          "base_uri": "https://localhost:8080/",
          "height": 17
        },
        "id": "tf6Qhnm_WpG-",
        "outputId": "072844ee-4882-4986-a007-5f2f5d668631"
      },
      "execution_count": 28,
      "outputs": [
        {
          "output_type": "display_data",
          "data": {
            "text/plain": [
              "<IPython.core.display.Javascript object>"
            ],
            "application/javascript": [
              "\n",
              "    async function download(id, filename, size) {\n",
              "      if (!google.colab.kernel.accessAllowed) {\n",
              "        return;\n",
              "      }\n",
              "      const div = document.createElement('div');\n",
              "      const label = document.createElement('label');\n",
              "      label.textContent = `Downloading \"${filename}\": `;\n",
              "      div.appendChild(label);\n",
              "      const progress = document.createElement('progress');\n",
              "      progress.max = size;\n",
              "      div.appendChild(progress);\n",
              "      document.body.appendChild(div);\n",
              "\n",
              "      const buffers = [];\n",
              "      let downloaded = 0;\n",
              "\n",
              "      const channel = await google.colab.kernel.comms.open(id);\n",
              "      // Send a message to notify the kernel that we're ready.\n",
              "      channel.send({})\n",
              "\n",
              "      for await (const message of channel.messages) {\n",
              "        // Send a message to notify the kernel that we're ready.\n",
              "        channel.send({})\n",
              "        if (message.buffers) {\n",
              "          for (const buffer of message.buffers) {\n",
              "            buffers.push(buffer);\n",
              "            downloaded += buffer.byteLength;\n",
              "            progress.value = downloaded;\n",
              "          }\n",
              "        }\n",
              "      }\n",
              "      const blob = new Blob(buffers, {type: 'application/binary'});\n",
              "      const a = document.createElement('a');\n",
              "      a.href = window.URL.createObjectURL(blob);\n",
              "      a.download = filename;\n",
              "      div.appendChild(a);\n",
              "      a.click();\n",
              "      div.remove();\n",
              "    }\n",
              "  "
            ]
          },
          "metadata": {}
        },
        {
          "output_type": "display_data",
          "data": {
            "text/plain": [
              "<IPython.core.display.Javascript object>"
            ],
            "application/javascript": [
              "download(\"download_ab68fcf4-43c0-4490-ac29-c15e75bdb275\", \"LOOCV_Model_Performance_OD0.6.csv\", 226)"
            ]
          },
          "metadata": {}
        }
      ]
    },
    {
      "cell_type": "code",
      "source": [
        "# STEP 11: Plot actual vs predicted for Ridge (best model)\n",
        "ridge_actual_flat = np.concatenate(ridge_actual_all)\n",
        "ridge_pred_flat = np.concatenate(ridge_preds_all)\n",
        "\n",
        "plt.figure(figsize=(6, 6))\n",
        "plt.scatter(ridge_actual_flat, ridge_pred_flat, alpha=0.7)\n",
        "plt.plot([min(ridge_actual_flat), max(ridge_actual_flat)],\n",
        "         [min(ridge_actual_flat), max(ridge_actual_flat)], 'r--')\n",
        "plt.xlabel(\"Actual Protein Expression\")\n",
        "plt.ylabel(\"Predicted Protein Expression\")\n",
        "plt.title(\"Ridge Regression: Actual vs. Predicted (OD = 0.6)\")\n",
        "plt.grid(True)\n",
        "plt.tight_layout()\n",
        "plt.show()"
      ],
      "metadata": {
        "colab": {
          "base_uri": "https://localhost:8080/",
          "height": 607
        },
        "id": "0-zxJffkWsum",
        "outputId": "95d6a375-a472-400f-a004-6846270aeea9"
      },
      "execution_count": 29,
      "outputs": [
        {
          "output_type": "display_data",
          "data": {
            "text/plain": [
              "<Figure size 600x600 with 1 Axes>"
            ],
            "image/png": "[encoded data removed]"
          },
          "metadata": {}
        }
      ]
    },
    {
      "cell_type": "code",
      "source": [
        "# STEP 12: Apply Ridge model to OD = 2 data\n",
        "uploaded = files.upload()\n",
        "od2_file = \"P den_Metabolites_OD_2.xlsx\"\n",
        "od2_df = pd.read_excel(od2_file)"
      ],
      "metadata": {
        "colab": {
          "base_uri": "https://localhost:8080/",
          "height": 73
        },
        "id": "zw3pBatPhm7j",
        "outputId": "4e8c193f-396a-43cb-c7c5-30e886a2d13c"
      },
      "execution_count": 30,
      "outputs": [
        {
          "output_type": "display_data",
          "data": {
            "text/plain": [
              "<IPython.core.display.HTML object>"
            ],
            "text/html": [
              "\n",
              "     <input type=\"file\" id=\"files-ebf7c044-bbca-4254-96b0-46c3101e058a\" name=\"files[]\" multiple disabled\n",
              "        style=\"border:none\" />\n",
              "     <output id=\"result-ebf7c044-bbca-4254-96b0-46c3101e058a\">\n",
              "      Upload widget is only available when the cell has been executed in the\n",
              "      current browser session. Please rerun this cell to enable.\n",
              "      </output>\n",
              "      <script>// Copyright 2017 Google LLC\n",
              "//\n",
              "// Licensed under the Apache License, Version 2.0 (the \"License\");\n",
              "// you may not use this file except in compliance with the License.\n",
              "// You may obtain a copy of the License at\n",
              "//\n",
              "//      http://www.apache.org/licenses/LICENSE-2.0\n",
              "//\n",
              "// Unless required by applicable law or agreed to in writing, software\n",
              "// distributed under the License is distributed on an \"AS IS\" BASIS,\n",
              "// WITHOUT WARRANTIES OR CONDITIONS OF ANY KIND, either express or implied.\n",
              "// See the License for the specific language governing permissions and\n",
              "// limitations under the License.\n",
              "\n",
              "/**\n",
              " * @fileoverview Helpers for google.colab Python module.\n",
              " */\n",
              "(function(scope) {\n",
              "function span(text, styleAttributes = {}) {\n",
              "  const element = document.createElement('span');\n",
              "  element.textContent = text;\n",
              "  for (const key of Object.keys(styleAttributes)) {\n",
              "    element.style[key] = styleAttributes[key];\n",
              "  }\n",
              "  return element;\n",
              "}\n",
              "\n",
              "// Max number of bytes which will be uploaded at a time.\n",
              "const MAX_PAYLOAD_SIZE = 100 * 1024;\n",
              "\n",
              "function _uploadFiles(inputId, outputId) {\n",
              "  const steps = uploadFilesStep(inputId, outputId);\n",
              "  const outputElement = document.getElementById(outputId);\n",
              "  // Cache steps on the outputElement to make it available for the next call\n",
              "  // to uploadFilesContinue from Python.\n",
              "  outputElement.steps = steps;\n",
              "\n",
              "  return _uploadFilesContinue(outputId);\n",
              "}\n",
              "\n",
              "// This is roughly an async generator (not supported in the browser yet),\n",
              "// where there are multiple asynchronous steps and the Python side is going\n",
              "// to poll for completion of each step.\n",
              "// This uses a Promise to block the python side on completion of each step,\n",
              "// then passes the result of the previous step as the input to the next step.\n",
              "function _uploadFilesContinue(outputId) {\n",
              "  const outputElement = document.getElementById(outputId);\n",
              "  const steps = outputElement.steps;\n",
              "\n",
              "  const next = steps.next(outputElement.lastPromiseValue);\n",
              "  return Promise.resolve(next.value.promise).then((value) => {\n",
              "    // Cache the last promise value to make it available to the next\n",
              "    // step of the generator.\n",
              "    outputElement.lastPromiseValue = value;\n",
              "    return next.value.response;\n",
              "  });\n",
              "}\n",
              "\n",
              "/**\n",
              " * Generator function which is called between each async step of the upload\n",
              " * process.\n",
              " * @param {string} inputId Element ID of the input file picker element.\n",
              " * @param {string} outputId Element ID of the output display.\n",
              " * @return {!Iterable<!Object>} Iterable of next steps.\n",
              " */\n",
              "function* uploadFilesStep(inputId, outputId) {\n",
              "  const inputElement = document.getElementById(inputId);\n",
              "  inputElement.disabled = false;\n",
              "\n",
              "  const outputElement = document.getElementById(outputId);\n",
              "  outputElement.innerHTML = '';\n",
              "\n",
              "  const pickedPromise = new Promise((resolve) => {\n",
              "    inputElement.addEventListener('change', (e) => {\n",
              "      resolve(e.target.files);\n",
              "    });\n",
              "  });\n",
              "\n",
              "  const cancel = document.createElement('button');\n",
              "  inputElement.parentElement.appendChild(cancel);\n",
              "  cancel.textContent = 'Cancel upload';\n",
              "  const cancelPromise = new Promise((resolve) => {\n",
              "    cancel.onclick = () => {\n",
              "      resolve(null);\n",
              "    };\n",
              "  });\n",
              "\n",
              "  // Wait for the user to pick the files.\n",
              "  const files = yield {\n",
              "    promise: Promise.race([pickedPromise, cancelPromise]),\n",
              "    response: {\n",
              "      action: 'starting',\n",
              "    }\n",
              "  };\n",
              "\n",
              "  cancel.remove();\n",
              "\n",
              "  // Disable the input element since further picks are not allowed.\n",
              "  inputElement.disabled = true;\n",
              "\n",
              "  if (!files) {\n",
              "    return {\n",
              "      response: {\n",
              "        action: 'complete',\n",
              "      }\n",
              "    };\n",
              "  }\n",
              "\n",
              "  for (const file of files) {\n",
              "    const li = document.createElement('li');\n",
              "    li.append(span(file.name, {fontWeight: 'bold'}));\n",
              "    li.append(span(\n",
              "        `(${file.type || 'n/a'}) - ${file.size} bytes, ` +\n",
              "        `last modified: ${\n",
              "            file.lastModifiedDate ? file.lastModifiedDate.toLocaleDateString() :\n",
              "                                    'n/a'} - `));\n",
              "    const percent = span('0% done');\n",
              "    li.appendChild(percent);\n",
              "\n",
              "    outputElement.appendChild(li);\n",
              "\n",
              "    const fileDataPromise = new Promise((resolve) => {\n",
              "      const reader = new FileReader();\n",
              "      reader.onload = (e) => {\n",
              "        resolve(e.target.result);\n",
              "      };\n",
              "      reader.readAsArrayBuffer(file);\n",
              "    });\n",
              "    // Wait for the data to be ready.\n",
              "    let fileData = yield {\n",
              "      promise: fileDataPromise,\n",
              "      response: {\n",
              "        action: 'continue',\n",
              "      }\n",
              "    };\n",
              "\n",
              "    // Use a chunked sending to avoid message size limits. See b/62115660.\n",
              "    let position = 0;\n",
              "    do {\n",
              "      const length = Math.min(fileData.byteLength - position, MAX_PAYLOAD_SIZE);\n",
              "      const chunk = new Uint8Array(fileData, position, length);\n",
              "      position += length;\n",
              "\n",
              "      const base64 = btoa(String.fromCharCode.apply(null, chunk));\n",
              "      yield {\n",
              "        response: {\n",
              "          action: 'append',\n",
              "          file: file.name,\n",
              "          data: base64,\n",
              "        },\n",
              "      };\n",
              "\n",
              "      let percentDone = fileData.byteLength === 0 ?\n",
              "          100 :\n",
              "          Math.round((position / fileData.byteLength) * 100);\n",
              "      percent.textContent = `${percentDone}% done`;\n",
              "\n",
              "    } while (position < fileData.byteLength);\n",
              "  }\n",
              "\n",
              "  // All done.\n",
              "  yield {\n",
              "    response: {\n",
              "      action: 'complete',\n",
              "    }\n",
              "  };\n",
              "}\n",
              "\n",
              "scope.google = scope.google || {};\n",
              "scope.google.colab = scope.google.colab || {};\n",
              "scope.google.colab._files = {\n",
              "  _uploadFiles,\n",
              "  _uploadFilesContinue,\n",
              "};\n",
              "})(self);\n",
              "</script> "
            ]
          },
          "metadata": {}
        },
        {
          "output_type": "stream",
          "name": "stdout",
          "text": [
            "Saving P den_Metabolites_OD_2.xlsx to P den_Metabolites_OD_2.xlsx\n"
          ]
        }
      ]
    },
    {
      "cell_type": "code",
      "source": [
        "# Prepare OD=2 input (same metabolites)\n",
        "od2_X = od2_df.set_index(\"Metabolite_ID\").T\n",
        "od2_X = od2_X.loc[:, ~od2_X.columns.duplicated()]\n",
        "od2_X = od2_X[scaler_X.feature_names_in_] if all(col in od2_X.columns for col in scaler_X.feature_names_in_) else od2_X.reindex(columns=scaler_X.feature_names_in_, fill_value=0.0)\n",
        "od2_X_scaled = scaler_X.transform(np.nan_to_num(od2_X))\n",
        "\n",
        "# Retrain best Ridge model on all OD = 0.6 data\n",
        "ridge_model = MultiOutputRegressor(Ridge(alpha=1.0))\n",
        "ridge_model.fit(X_scaled, Y_scaled)\n",
        "\n",
        "# Predict protein expression at OD = 2\n",
        "Y_od2_scaled_pred = ridge_model.predict(od2_X_scaled)\n",
        "Y_od2_pred = scaler_Y.inverse_transform(Y_od2_scaled_pred)\n",
        "Y_od2_pred_df = pd.DataFrame(Y_od2_pred, index=od2_X.index, columns=Y_raw.columns)"
      ],
      "metadata": {
        "colab": {
          "base_uri": "https://localhost:8080/"
        },
        "id": "ZgAmGgHBhsQr",
        "outputId": "76cfe2cd-51d8-495d-9eb3-2f2d92082a41"
      },
      "execution_count": 33,
      "outputs": [
        {
          "output_type": "stream",
          "name": "stderr",
          "text": [
            "/usr/local/lib/python3.11/dist-packages/sklearn/utils/validation.py:2739: UserWarning: X does not have valid feature names, but StandardScaler was fitted with feature names\n",
            "  warnings.warn(\n"
          ]
        }
      ]
    },
    {
      "cell_type": "code",
      "source": [
        "# Export OD = 2 predictions\n",
        "#Y_od2_pred_df.to_csv(\"Ridge_Predicted_Protein_Expression_OD2.csv\")\n",
        "#files.download(\"Ridge_Predicted_Protein_Expression_OD2.csv\")\n",
        "\n",
        "Y_od2_pred_df_transposed = Y_od2_pred_df.T\n",
        "Y_od2_pred_df_transposed.to_csv(\"Ridge_Predicted_Protein_Expression_OD2_transposed.csv\")\n",
        "files.download(\"Ridge_Predicted_Protein_Expression_OD2_transposed.csv\")"
      ],
      "metadata": {
        "colab": {
          "base_uri": "https://localhost:8080/",
          "height": 17
        },
        "id": "ERmpPo60id1F",
        "outputId": "55035f23-21a7-4e52-b8f8-6676fd2e5833"
      },
      "execution_count": 36,
      "outputs": [
        {
          "output_type": "display_data",
          "data": {
            "text/plain": [
              "<IPython.core.display.Javascript object>"
            ],
            "application/javascript": [
              "\n",
              "    async function download(id, filename, size) {\n",
              "      if (!google.colab.kernel.accessAllowed) {\n",
              "        return;\n",
              "      }\n",
              "      const div = document.createElement('div');\n",
              "      const label = document.createElement('label');\n",
              "      label.textContent = `Downloading \"${filename}\": `;\n",
              "      div.appendChild(label);\n",
              "      const progress = document.createElement('progress');\n",
              "      progress.max = size;\n",
              "      div.appendChild(progress);\n",
              "      document.body.appendChild(div);\n",
              "\n",
              "      const buffers = [];\n",
              "      let downloaded = 0;\n",
              "\n",
              "      const channel = await google.colab.kernel.comms.open(id);\n",
              "      // Send a message to notify the kernel that we're ready.\n",
              "      channel.send({})\n",
              "\n",
              "      for await (const message of channel.messages) {\n",
              "        // Send a message to notify the kernel that we're ready.\n",
              "        channel.send({})\n",
              "        if (message.buffers) {\n",
              "          for (const buffer of message.buffers) {\n",
              "            buffers.push(buffer);\n",
              "            downloaded += buffer.byteLength;\n",
              "            progress.value = downloaded;\n",
              "          }\n",
              "        }\n",
              "      }\n",
              "      const blob = new Blob(buffers, {type: 'application/binary'});\n",
              "      const a = document.createElement('a');\n",
              "      a.href = window.URL.createObjectURL(blob);\n",
              "      a.download = filename;\n",
              "      div.appendChild(a);\n",
              "      a.click();\n",
              "      div.remove();\n",
              "    }\n",
              "  "
            ]
          },
          "metadata": {}
        },
        {
          "output_type": "display_data",
          "data": {
            "text/plain": [
              "<IPython.core.display.Javascript object>"
            ],
            "application/javascript": [
              "download(\"download_24730d04-1fdc-4b56-b25f-42c9ea374251\", \"Ridge_Predicted_Protein_Expression_OD2_transposed.csv\", 80908)"
            ]
          },
          "metadata": {}
        }
      ]
    }
  ]
}